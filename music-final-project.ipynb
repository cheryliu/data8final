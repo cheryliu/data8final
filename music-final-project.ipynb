{
 "cells": [
  {
   "cell_type": "code",
   "execution_count": 1,
   "metadata": {},
   "outputs": [
    {
     "name": "stdout",
     "output_type": "stream",
     "text": [
      "=====================================================================\n",
      "Assignment: Final Project: Free Music Archive\n",
      "OK, version v1.12.5\n",
      "=====================================================================\n",
      "\n",
      "Successfully logged in as lcm_19@berkeley.edu\n"
     ]
    }
   ],
   "source": [
    "# modules for research report\n",
    "from datascience import *\n",
    "import numpy as np\n",
    "import random\n",
    "%matplotlib inline\n",
    "import matplotlib.pyplot as plots\n",
    "plots.style.use('fivethirtyeight')\n",
    "import warnings\n",
    "warnings.filterwarnings('ignore')\n",
    "\n",
    "# module for YouTube video\n",
    "from IPython.display import YouTubeVideo\n",
    "\n",
    "# okpy config\n",
    "from client.api.notebook import Notebook\n",
    "ok = Notebook('music-final-project.ok')\n",
    "_ = ok.auth(inline=True)"
   ]
  },
  {
   "cell_type": "markdown",
   "metadata": {},
   "source": [
    "# Free Music Archive: A Dataset For Music Analysis"
   ]
  },
  {
   "cell_type": "markdown",
   "metadata": {},
   "source": [
    "This dataset was introduced by Michaël Defferrard, Kirell Benzi, Pierre Vandergheynst, and Xavier Bresson at the International Society for Music Information Retrieval (MIR) Conference in 2017.\n",
    "It has been cleaned for your convenience: all missing values have been removed, and low-quality observations and variables have been filtered out. A brief summary of the dataset, originally\n",
    "given at the conference, is provided below. \n",
    "\n",
    "**NB: You may not copy any public analyses of this dataset. Doing so will result in a zero.**"
   ]
  },
  {
   "cell_type": "markdown",
   "metadata": {},
   "source": [
    "## Summary\n",
    "\n",
    ">We introduce the Free Music Archive (FMA), an open and easily accessible dataset suitable for evaluating several tasks in MIR, a field concerned with browsing, searching, and\n",
    "organizing large music collections. The community's growing interest in feature and end-to-end learning is however restrained by the limited availability of large audio datasets.\n",
    "The FMA aims to overcome this hurdle by providing 917 GiB and 343 days of Creative Commons-licensed audio from 106,574 tracks from 16,341 artists and 14,854 albums, arranged in a\n",
    "hierarchical taxonomy of 161 genres. It provides full-length and high-quality audio, pre-computed features, together with track- and user-level metadata, tags, and free-form text\n",
    "such as biographies.\n",
    "\n",
    "A small, random subset of this larger dataset is provided to you."
   ]
  },
  {
   "cell_type": "markdown",
   "metadata": {},
   "source": [
    "## Data Description\n",
    "\n",
    "This dataset consists of three tables stored in the `data` folder:\n",
    "1. `tracks` provides information on individual tracks.\n",
    "2. `genres` contains information on all of the genres.\n",
    "3. `features` contains information on the Spotify audio features of each track.\n",
    "\n",
    "A description of each table's variables is provided below:\n",
    "\n",
    "`tracks`:\n",
    "* `track_id`: a unique ID for each track\n",
    "* `track_title`: title of each track\n",
    "* `artist_name`: name of the artist\n",
    "* `album_title`: title of the album that the track comes from\n",
    "* `track_duration`: the length of the song in seconds\n",
    "* `track_genre`: the genre(s) that the track fall(s) into\n",
    "* `album_date_released`: a string indicating the album release date\n",
    "* `album_type`: specifies whether the album is studio-recorded, live, or from a radio program\n",
    "* `album_tracks`: number of tracks on the album\n",
    "\n",
    "`genres`:\n",
    "* `genre_id`: a unique ID for each genre\n",
    "* `title`: the name of the genre\n",
    "* `# tracks`: the number of tracks that fall into this genre\n",
    "* `parent`: the genre that this subgenre falls under (will be 0 if not a subgenre)\n",
    "\n",
    "`features` (descriptions from the [Spotify API page](https://developer.spotify.com/documentation/web-api/reference/tracks/get-audio-features/)):\n",
    "* `track_id`: a unique ID for each track\n",
    "* `acousticness`: A confidence measure from 0.0 to 1.0 of whether the track is acoustic. 1.0 represents high confidence the track is acoustic.\n",
    "* `danceability`: Danceability describes how suitable a track is for dancing based on a combination of musical elements including tempo, rhythm stability, beat strength, and overall regularity. A value of 0.0 is least danceable and 1.0 is most danceable.\n",
    "* `energy`: Energy is a measure from 0.0 to 1.0 and represents a perceptual measure of intensity and activity. Typically, energetic tracks feel fast, loud, and noisy. For example, death metal has high energy, while a Bach prelude scores low on the scale.\n",
    "* `instrumentalness`: Predicts whether a track contains no vocals. “Ooh” and “aah” sounds are treated as instrumental in this context. Rap or spoken word tracks are clearly “vocal”. The closer the instrumentalness value is to 1.0, the greater likelihood the track contains no vocal content. \n",
    "* `liveness\t`: Detects the presence of an audience in the recording. Higher liveness values represent an increased probability that the track was performed live.\n",
    "* `speechiness`: Speechiness detects the presence of spoken words in a track. The more exclusively speech-like the recording (e.g. talk show, audio book, poetry), the closer to 1.0 the attribute value. \n",
    "* `tempo`: The overall estimated tempo of a track in beats per minute (BPM). In musical terminology, tempo is the speed or pace of a given piece and derives directly from the average beat duration. \n",
    "* `valence`: \tA measure from 0.0 to 1.0 describing the musical positiveness conveyed by a track. Tracks with high valence sound more positive (e.g. happy, cheerful, euphoric), while tracks with low valence sound more negative (e.g. sad, depressed, angry)."
   ]
  },
  {
   "cell_type": "markdown",
   "metadata": {},
   "source": [
    "## Inspiration\n",
    "\n",
    "A variety of exploratory analyses, hypothesis tests, and predictions problems can tackled with this data. Here are a few ideas to get\n",
    "you started:\n",
    "\n",
    "\n",
    "1. Which genre has the longest songs?\n",
    "3. Is there a relationship between danceability and energy? What about danceability and valence?\n",
    "4. Can you classify which genre (of [pick 2 once we see data]) based on its features?\n",
    "5. Do (pick 2 genres or parent genres) have the same average energy?\n",
    "\n",
    "Don't forget to review the [Final Project Guidelines](https://docs.google.com/document/d/1NuHDYTdWGwhPNRov8Y3I8y6R7Rbyf-WDOfQwovD-gmw/edit?usp=sharing) for a complete list of requirements."
   ]
  },
  {
   "cell_type": "markdown",
   "metadata": {},
   "source": [
    "## Preview\n",
    "\n",
    "The tables are loaded in the code cells below. Take some time to explore them!"
   ]
  },
  {
   "cell_type": "code",
   "execution_count": 2,
   "metadata": {},
   "outputs": [
    {
     "data": {
      "text/html": [
       "<table border=\"1\" class=\"dataframe\">\n",
       "    <thead>\n",
       "        <tr>\n",
       "            <th>genre_id</th> <th>title</th> <th>#tracks</th> <th>parent</th>\n",
       "        </tr>\n",
       "    </thead>\n",
       "    <tbody>\n",
       "        <tr>\n",
       "            <td>1       </td> <td>Avant-Garde        </td> <td>8693   </td> <td>38    </td>\n",
       "        </tr>\n",
       "        <tr>\n",
       "            <td>2       </td> <td>International      </td> <td>5271   </td> <td>0     </td>\n",
       "        </tr>\n",
       "        <tr>\n",
       "            <td>3       </td> <td>Blues              </td> <td>1752   </td> <td>0     </td>\n",
       "        </tr>\n",
       "        <tr>\n",
       "            <td>4       </td> <td>Jazz               </td> <td>4126   </td> <td>0     </td>\n",
       "        </tr>\n",
       "        <tr>\n",
       "            <td>5       </td> <td>Classical          </td> <td>4106   </td> <td>0     </td>\n",
       "        </tr>\n",
       "        <tr>\n",
       "            <td>6       </td> <td>Novelty            </td> <td>914    </td> <td>38    </td>\n",
       "        </tr>\n",
       "        <tr>\n",
       "            <td>7       </td> <td>Comedy             </td> <td>217    </td> <td>20    </td>\n",
       "        </tr>\n",
       "        <tr>\n",
       "            <td>8       </td> <td>Old-Time / Historic</td> <td>868    </td> <td>0     </td>\n",
       "        </tr>\n",
       "        <tr>\n",
       "            <td>9       </td> <td>Country            </td> <td>1987   </td> <td>0     </td>\n",
       "        </tr>\n",
       "        <tr>\n",
       "            <td>10      </td> <td>Pop                </td> <td>13845  </td> <td>0     </td>\n",
       "        </tr>\n",
       "    </tbody>\n",
       "</table>\n",
       "<p>... (153 rows omitted)</p>"
      ],
      "text/plain": [
       "genre_id | title               | #tracks | parent\n",
       "1        | Avant-Garde         | 8693    | 38\n",
       "2        | International       | 5271    | 0\n",
       "3        | Blues               | 1752    | 0\n",
       "4        | Jazz                | 4126    | 0\n",
       "5        | Classical           | 4106    | 0\n",
       "6        | Novelty             | 914     | 38\n",
       "7        | Comedy              | 217     | 20\n",
       "8        | Old-Time / Historic | 868     | 0\n",
       "9        | Country             | 1987    | 0\n",
       "10       | Pop                 | 13845   | 0\n",
       "... (153 rows omitted)"
      ]
     },
     "execution_count": 2,
     "metadata": {},
     "output_type": "execute_result"
    }
   ],
   "source": [
    "#load genres\n",
    "genres = Table().read_table(\"data/genres_final.csv\")\n",
    "genres"
   ]
  },
  {
   "cell_type": "code",
   "execution_count": 3,
   "metadata": {},
   "outputs": [
    {
     "data": {
      "text/html": [
       "<table border=\"1\" class=\"dataframe\">\n",
       "    <thead>\n",
       "        <tr>\n",
       "            <th>track_id</th> <th>acousticness</th> <th>danceability</th> <th>energy</th> <th>instrumentalness</th> <th>liveness</th> <th>speechiness</th> <th>tempo</th> <th>valence</th>\n",
       "        </tr>\n",
       "    </thead>\n",
       "    <tbody>\n",
       "        <tr>\n",
       "            <td>145     </td> <td>0.235506    </td> <td>0.438672    </td> <td>0.487752 </td> <td>0.716122        </td> <td>0.0703593</td> <td>0.0472978  </td> <td>120.79 </td> <td>0.650452 </td>\n",
       "        </tr>\n",
       "        <tr>\n",
       "            <td>155     </td> <td>0.981657    </td> <td>0.142249    </td> <td>0.912122 </td> <td>0.967294        </td> <td>0.36351  </td> <td>0.087527   </td> <td>91.912 </td> <td>0.0343253</td>\n",
       "        </tr>\n",
       "        <tr>\n",
       "            <td>201     </td> <td>0.991813    </td> <td>0.461855    </td> <td>0.543751 </td> <td>0.964922        </td> <td>0.137006 </td> <td>0.0256877  </td> <td>93.945 </td> <td>0.758632 </td>\n",
       "        </tr>\n",
       "        <tr>\n",
       "            <td>307     </td> <td>0.77377     </td> <td>0.552026    </td> <td>0.251328 </td> <td>0.568976        </td> <td>0.110743 </td> <td>0.0506326  </td> <td>117.247</td> <td>0.356984 </td>\n",
       "        </tr>\n",
       "        <tr>\n",
       "            <td>309     </td> <td>0.335481    </td> <td>0.390263    </td> <td>0.0210674</td> <td>0.937508        </td> <td>0.0890457</td> <td>0.0414906  </td> <td>60.382 </td> <td>0.0399321</td>\n",
       "        </tr>\n",
       "        <tr>\n",
       "            <td>319     </td> <td>0.890498    </td> <td>0.316413    </td> <td>0.0596131</td> <td>0.913303        </td> <td>0.108808 </td> <td>0.0387785  </td> <td>133.934</td> <td>0.122417 </td>\n",
       "        </tr>\n",
       "        <tr>\n",
       "            <td>327     </td> <td>0.928171    </td> <td>0.553091    </td> <td>0.303937 </td> <td>0.95423         </td> <td>0.110752 </td> <td>0.107401   </td> <td>110.039</td> <td>0.616368 </td>\n",
       "        </tr>\n",
       "        <tr>\n",
       "            <td>328     </td> <td>0.297541    </td> <td>0.624953    </td> <td>0.176884 </td> <td>0.815871        </td> <td>0.0928226</td> <td>0.0551486  </td> <td>114.858</td> <td>0.503635 </td>\n",
       "        </tr>\n",
       "        <tr>\n",
       "            <td>350     </td> <td>0.989664    </td> <td>0.463938    </td> <td>0.363612 </td> <td>0.919011        </td> <td>0.11874  </td> <td>0.0376218  </td> <td>99.384 </td> <td>0.591003 </td>\n",
       "        </tr>\n",
       "        <tr>\n",
       "            <td>364     </td> <td>0.98638     </td> <td>0.61286     </td> <td>0.15611  </td> <td>0.104549        </td> <td>0.107289 </td> <td>0.198543   </td> <td>109.256</td> <td>0.483544 </td>\n",
       "        </tr>\n",
       "    </tbody>\n",
       "</table>\n",
       "<p>... (449 rows omitted)</p>"
      ],
      "text/plain": [
       "track_id | acousticness | danceability | energy    | instrumentalness | liveness  | speechiness | tempo   | valence\n",
       "145      | 0.235506     | 0.438672     | 0.487752  | 0.716122         | 0.0703593 | 0.0472978   | 120.79  | 0.650452\n",
       "155      | 0.981657     | 0.142249     | 0.912122  | 0.967294         | 0.36351   | 0.087527    | 91.912  | 0.0343253\n",
       "201      | 0.991813     | 0.461855     | 0.543751  | 0.964922         | 0.137006  | 0.0256877   | 93.945  | 0.758632\n",
       "307      | 0.77377      | 0.552026     | 0.251328  | 0.568976         | 0.110743  | 0.0506326   | 117.247 | 0.356984\n",
       "309      | 0.335481     | 0.390263     | 0.0210674 | 0.937508         | 0.0890457 | 0.0414906   | 60.382  | 0.0399321\n",
       "319      | 0.890498     | 0.316413     | 0.0596131 | 0.913303         | 0.108808  | 0.0387785   | 133.934 | 0.122417\n",
       "327      | 0.928171     | 0.553091     | 0.303937  | 0.95423          | 0.110752  | 0.107401    | 110.039 | 0.616368\n",
       "328      | 0.297541     | 0.624953     | 0.176884  | 0.815871         | 0.0928226 | 0.0551486   | 114.858 | 0.503635\n",
       "350      | 0.989664     | 0.463938     | 0.363612  | 0.919011         | 0.11874   | 0.0376218   | 99.384  | 0.591003\n",
       "364      | 0.98638      | 0.61286      | 0.15611   | 0.104549         | 0.107289  | 0.198543    | 109.256 | 0.483544\n",
       "... (449 rows omitted)"
      ]
     },
     "execution_count": 3,
     "metadata": {},
     "output_type": "execute_result"
    }
   ],
   "source": [
    "#load features\n",
    "features = Table().read_table(\"data/features_final.csv\")\n",
    "features"
   ]
  },
  {
   "cell_type": "code",
   "execution_count": 4,
   "metadata": {},
   "outputs": [
    {
     "data": {
      "text/html": [
       "<table border=\"1\" class=\"dataframe\">\n",
       "    <thead>\n",
       "        <tr>\n",
       "            <th>track_id</th> <th>track_title</th> <th>artist_name</th> <th>album_title</th> <th>track_duration</th> <th>track_genre</th> <th>album_date_released</th> <th>album_type</th> <th>album_tracks</th>\n",
       "        </tr>\n",
       "    </thead>\n",
       "    <tbody>\n",
       "        <tr>\n",
       "            <td>145     </td> <td>Amoebiasis              </td> <td>Amoebic Ensemble</td> <td>Amoebiasis                     </td> <td>326           </td> <td>Jazz       </td> <td>2009-01-06         </td> <td>Album        </td> <td>0           </td>\n",
       "        </tr>\n",
       "        <tr>\n",
       "            <td>155     </td> <td>Maps of the Stars Homes </td> <td>Arc and Sender  </td> <td>unreleased demo                </td> <td>756           </td> <td>Rock       </td> <td>2009-01-06         </td> <td>Single Tracks</td> <td>1           </td>\n",
       "        </tr>\n",
       "        <tr>\n",
       "            <td>201     </td> <td>Big City                </td> <td>Ed Askew        </td> <td>What I Know                    </td> <td>210           </td> <td>Folk       </td> <td>2009-01-07         </td> <td>Album        </td> <td>10          </td>\n",
       "        </tr>\n",
       "        <tr>\n",
       "            <td>307     </td> <td>Out on the farm         </td> <td>Blah Blah Blah  </td> <td>Green Collection               </td> <td>205           </td> <td>Rock       </td> <td>2007-09-01         </td> <td>Album        </td> <td>0           </td>\n",
       "        </tr>\n",
       "        <tr>\n",
       "            <td>309     </td> <td>Where are all the people</td> <td>Blah Blah Blah  </td> <td>Green Collection               </td> <td>229           </td> <td>Rock       </td> <td>2007-09-01         </td> <td>Album        </td> <td>0           </td>\n",
       "        </tr>\n",
       "        <tr>\n",
       "            <td>319     </td> <td>Complete Shakespeare    </td> <td>Blah Blah Blah  </td> <td>Green Collection               </td> <td>156           </td> <td>Rock       </td> <td>2007-09-01         </td> <td>Album        </td> <td>0           </td>\n",
       "        </tr>\n",
       "        <tr>\n",
       "            <td>327     </td> <td>Hands Beckoning         </td> <td>Blah Blah Blah  </td> <td>Stripey Collection             </td> <td>259           </td> <td>Rock       </td> <td>1982-04-06         </td> <td>Album        </td> <td>0           </td>\n",
       "        </tr>\n",
       "        <tr>\n",
       "            <td>328     </td> <td>Central Park            </td> <td>Blah Blah Blah  </td> <td>Stripey Collection             </td> <td>236           </td> <td>Rock       </td> <td>1982-04-06         </td> <td>Album        </td> <td>0           </td>\n",
       "        </tr>\n",
       "        <tr>\n",
       "            <td>350     </td> <td>Gotta Go                </td> <td>Blah Blah Blah  </td> <td>30th Anniversary Blah Blah Blah</td> <td>101           </td> <td>Rock       </td> <td>2009-01-01         </td> <td>Album        </td> <td>21          </td>\n",
       "        </tr>\n",
       "        <tr>\n",
       "            <td>364     </td> <td>Sunspot activity        </td> <td>Blah Blah Blah  </td> <td>30th Anniversary Blah Blah Blah</td> <td>152           </td> <td>Rock       </td> <td>2009-01-01         </td> <td>Album        </td> <td>21          </td>\n",
       "        </tr>\n",
       "    </tbody>\n",
       "</table>\n",
       "<p>... (449 rows omitted)</p>"
      ],
      "text/plain": [
       "track_id | track_title              | artist_name      | album_title                     | track_duration | track_genre | album_date_released | album_type    | album_tracks\n",
       "145      | Amoebiasis               | Amoebic Ensemble | Amoebiasis                      | 326            | Jazz        | 2009-01-06          | Album         | 0\n",
       "155      | Maps of the Stars Homes  | Arc and Sender   | unreleased demo                 | 756            | Rock        | 2009-01-06          | Single Tracks | 1\n",
       "201      | Big City                 | Ed Askew         | What I Know                     | 210            | Folk        | 2009-01-07          | Album         | 10\n",
       "307      | Out on the farm          | Blah Blah Blah   | Green Collection                | 205            | Rock        | 2007-09-01          | Album         | 0\n",
       "309      | Where are all the people | Blah Blah Blah   | Green Collection                | 229            | Rock        | 2007-09-01          | Album         | 0\n",
       "319      | Complete Shakespeare     | Blah Blah Blah   | Green Collection                | 156            | Rock        | 2007-09-01          | Album         | 0\n",
       "327      | Hands Beckoning          | Blah Blah Blah   | Stripey Collection              | 259            | Rock        | 1982-04-06          | Album         | 0\n",
       "328      | Central Park             | Blah Blah Blah   | Stripey Collection              | 236            | Rock        | 1982-04-06          | Album         | 0\n",
       "350      | Gotta Go                 | Blah Blah Blah   | 30th Anniversary Blah Blah Blah | 101            | Rock        | 2009-01-01          | Album         | 21\n",
       "364      | Sunspot activity         | Blah Blah Blah   | 30th Anniversary Blah Blah Blah | 152            | Rock        | 2009-01-01          | Album         | 21\n",
       "... (449 rows omitted)"
      ]
     },
     "execution_count": 4,
     "metadata": {},
     "output_type": "execute_result"
    }
   ],
   "source": [
    "#load tracks\n",
    "tracks = Table().read_table(\"data/tracks_final.csv\")\n",
    "tracks"
   ]
  },
  {
   "cell_type": "markdown",
   "metadata": {},
   "source": [
    "<br>\n",
    "\n",
    "# Research Report"
   ]
  },
  {
   "cell_type": "markdown",
   "metadata": {},
   "source": [
    "## Introduction\n",
    "### Source\n",
    "Our data source is from the Free Music Archive (FMA), which is a large dataset containing over 106,574 tracks from different artists and genres. We are going to analyze a small, random subset of the whole dataset with three tables: tracks, genres, and features. We link ```tracks``` and ```features``` by the unique ```track_id``` of each track to perform our analysis.\n",
    "### Observation\n",
    "Using simple ```numpy``` and ```Table``` operations, we made a few observations. We discovered that the genre of the longest song in the dataset is Rock; Jazz music has the longest average ```track_duration```; A band named *Blah Blah Blah* has the most appearances among all Rock tracks; And lastly, Blues music has the lowest ```valence``` value. Out of 459 tracks, 215 of them are labeled as Rock in ```track_genre``` and 110 of them are labeled as Electronic. In other words, roughly $70\\%$ of tracks are either Rock or Jazz music.\n",
    "### Variables\n",
    "We notice that the most important variables to our analysis mainly locate in the ```features``` table, for variables in this table, other than the ```track_id``` reserved for table aggregation, are all qualitative data that captures the characteristics of music. We conduct both parts of our analysis by manipulating variables in this table. Other than variables in the ```features``` table, by joining tables, ```track_duration``` is an another qualitative variable that plays a role in our analysis. As of categorical data, we only chose ```track_genre``` from the ```tracks``` table, since both parts of our analysis are closely related to genres of music.\n"
   ]
  },
  {
   "cell_type": "markdown",
   "metadata": {},
   "source": [
    "## Hypothesis Testing and Prediction Questions\n",
    "\n",
    "**Please bold your hypothesis testing and prediction questions.**\n",
    "\n",
    "**Hypothesis Testing Question**\n",
    "\n",
    "**We notice a difference in distributions of tempos between Rock and Electronic music, and we want to know where this difference is coming from. We decide to perform an A/B testing with the null hypothesis being that the difference is due to a chance model, and with the alternative hypothesis being that Rock music tends to have a faster tempo on average than Electronic music and hence brings the difference. We will use a common $5\\%$ as our choice for p_value and we use the absolute difference between two averages as our test statistic.**\n",
    "\n",
    "**Prediction Question**\n",
    "\n",
    "**We decide to conduct KNN classification using features from ```features``` table and wish to correctly classify Rock and Electronic music using these variables. We believe classifying genres of music based on their qualitative traits is more valuable than using linear regession to predict. For instance, predicting the ```valence``` of a piece of music from other features is not particularly helpful for people to interpret it.**"
   ]
  },
  {
   "cell_type": "markdown",
   "metadata": {},
   "source": [
    "## Exploratory Data Analysis\n",
    "\n",
    "**You may change the order of the plots and tables.**"
   ]
  },
  {
   "cell_type": "markdown",
   "metadata": {},
   "source": [
    "**Quantitative Plot:**"
   ]
  },
  {
   "cell_type": "code",
   "execution_count": 5,
   "metadata": {},
   "outputs": [
    {
     "data": {
      "image/png": "[encoded data removed]",
      "text/plain": [
       "<Figure size 432x396 with 1 Axes>"
      ]
     },
     "metadata": {},
     "output_type": "display_data"
    }
   ],
   "source": [
    "# Use this cell to generate your quantitative plot\n",
    "tracks.group('track_genre').sort('count', descending = True).relabel('count', '# tracks in sample').barh('track_genre', '# tracks in sample')"
   ]
  },
  {
   "cell_type": "markdown",
   "metadata": {},
   "source": [
    "*From this plot, we learned that the distribution indicates that the sample is possibly biased. This limits our ability to experiment with data of tracks that are classified in, for example, international or classical. In other words, the ```tracks``` table is not represetative enough for genres other than Rock, Electronic, Hip-Hop and Folk.*"
   ]
  },
  {
   "cell_type": "markdown",
   "metadata": {},
   "source": [
    "**Qualitative Plot:**"
   ]
  },
  {
   "cell_type": "code",
   "execution_count": 6,
   "metadata": {},
   "outputs": [
    {
     "data": {
      "image/png": "[encoded data removed]",
      "text/plain": [
       "<Figure size 432x288 with 1 Axes>"
      ]
     },
     "metadata": {},
     "output_type": "display_data"
    }
   ],
   "source": [
    "# Use this cell to generate your qualitative plot\n",
    "tracks.join('track_id', features).where('track_genre', are.contained_in('Rock Electronic')).hist('tempo', group='track_genre')"
   ]
  },
  {
   "cell_type": "markdown",
   "metadata": {},
   "source": [
    "*After genreating the quantative plot, we decide to work with Rock and Electronic music. From plotting the given data, we noticed a small difference between the distribution of tempos for these two kinds of music. This difference motivates us to use hypothesis testing to find out where this difference is coming from.*"
   ]
  },
  {
   "cell_type": "markdown",
   "metadata": {},
   "source": [
    "**Aggregated Data Table:**"
   ]
  },
  {
   "cell_type": "code",
   "execution_count": 7,
   "metadata": {},
   "outputs": [
    {
     "data": {
      "text/html": [
       "<table border=\"1\" class=\"dataframe\">\n",
       "    <thead>\n",
       "        <tr>\n",
       "            <th>danceability h/l</th> <th>Electronic</th> <th>Rock</th>\n",
       "        </tr>\n",
       "    </thead>\n",
       "    <tbody>\n",
       "        <tr>\n",
       "            <td>High            </td> <td>68        </td> <td>63  </td>\n",
       "        </tr>\n",
       "        <tr>\n",
       "            <td>Low             </td> <td>42        </td> <td>152 </td>\n",
       "        </tr>\n",
       "    </tbody>\n",
       "</table>"
      ],
      "text/plain": [
       "danceability h/l | Electronic | Rock\n",
       "High             | 68         | 63\n",
       "Low              | 42         | 152"
      ]
     },
     "execution_count": 7,
     "metadata": {},
     "output_type": "execute_result"
    }
   ],
   "source": [
    "# Use this cell to generate your aggregated data table\n",
    "tracks.join('track_id', features).with_column('danceability h/l', tracks.join('track_id', features).apply(lambda v: 'High' if v > 0.5 else 'Low', 'danceability')).pivot('track_genre', 'danceability h/l').select('danceability h/l', 'Electronic', 'Rock')"
   ]
  },
  {
   "cell_type": "markdown",
   "metadata": {},
   "source": [
    "*By giving labels to features, we were able to perform pivot operation on ```tracks``` after joining it with ```features``` to help with our feature selection in the prediction part of our project. ```danceability``` is one of the many features we ended up using in the prediction part. Using the exact same approach, we were able to obtain the other three of our features used in prediction: ```acousticness```,  ```energy```, ```instrumentalness```.*"
   ]
  },
  {
   "cell_type": "markdown",
   "metadata": {},
   "source": [
    "**Table Requiring a Join Operation:**"
   ]
  },
  {
   "cell_type": "code",
   "execution_count": 8,
   "metadata": {},
   "outputs": [
    {
     "data": {
      "text/html": [
       "<table border=\"1\" class=\"dataframe\">\n",
       "    <thead>\n",
       "        <tr>\n",
       "            <th>track_id</th> <th>track_title</th> <th>track_genre</th> <th>acousticness</th> <th>danceability</th> <th>energy</th> <th>instrumentalness</th> <th>liveness</th> <th>speechiness</th> <th>tempo</th> <th>valence</th>\n",
       "        </tr>\n",
       "    </thead>\n",
       "    <tbody>\n",
       "        <tr>\n",
       "            <td>145     </td> <td>Amoebiasis              </td> <td>Jazz       </td> <td>0.235506    </td> <td>0.438672    </td> <td>0.487752 </td> <td>0.716122        </td> <td>0.0703593</td> <td>0.0472978  </td> <td>120.79 </td> <td>0.650452 </td>\n",
       "        </tr>\n",
       "        <tr>\n",
       "            <td>155     </td> <td>Maps of the Stars Homes </td> <td>Rock       </td> <td>0.981657    </td> <td>0.142249    </td> <td>0.912122 </td> <td>0.967294        </td> <td>0.36351  </td> <td>0.087527   </td> <td>91.912 </td> <td>0.0343253</td>\n",
       "        </tr>\n",
       "        <tr>\n",
       "            <td>201     </td> <td>Big City                </td> <td>Folk       </td> <td>0.991813    </td> <td>0.461855    </td> <td>0.543751 </td> <td>0.964922        </td> <td>0.137006 </td> <td>0.0256877  </td> <td>93.945 </td> <td>0.758632 </td>\n",
       "        </tr>\n",
       "        <tr>\n",
       "            <td>307     </td> <td>Out on the farm         </td> <td>Rock       </td> <td>0.77377     </td> <td>0.552026    </td> <td>0.251328 </td> <td>0.568976        </td> <td>0.110743 </td> <td>0.0506326  </td> <td>117.247</td> <td>0.356984 </td>\n",
       "        </tr>\n",
       "        <tr>\n",
       "            <td>309     </td> <td>Where are all the people</td> <td>Rock       </td> <td>0.335481    </td> <td>0.390263    </td> <td>0.0210674</td> <td>0.937508        </td> <td>0.0890457</td> <td>0.0414906  </td> <td>60.382 </td> <td>0.0399321</td>\n",
       "        </tr>\n",
       "        <tr>\n",
       "            <td>319     </td> <td>Complete Shakespeare    </td> <td>Rock       </td> <td>0.890498    </td> <td>0.316413    </td> <td>0.0596131</td> <td>0.913303        </td> <td>0.108808 </td> <td>0.0387785  </td> <td>133.934</td> <td>0.122417 </td>\n",
       "        </tr>\n",
       "        <tr>\n",
       "            <td>327     </td> <td>Hands Beckoning         </td> <td>Rock       </td> <td>0.928171    </td> <td>0.553091    </td> <td>0.303937 </td> <td>0.95423         </td> <td>0.110752 </td> <td>0.107401   </td> <td>110.039</td> <td>0.616368 </td>\n",
       "        </tr>\n",
       "        <tr>\n",
       "            <td>328     </td> <td>Central Park            </td> <td>Rock       </td> <td>0.297541    </td> <td>0.624953    </td> <td>0.176884 </td> <td>0.815871        </td> <td>0.0928226</td> <td>0.0551486  </td> <td>114.858</td> <td>0.503635 </td>\n",
       "        </tr>\n",
       "        <tr>\n",
       "            <td>350     </td> <td>Gotta Go                </td> <td>Rock       </td> <td>0.989664    </td> <td>0.463938    </td> <td>0.363612 </td> <td>0.919011        </td> <td>0.11874  </td> <td>0.0376218  </td> <td>99.384 </td> <td>0.591003 </td>\n",
       "        </tr>\n",
       "        <tr>\n",
       "            <td>364     </td> <td>Sunspot activity        </td> <td>Rock       </td> <td>0.98638     </td> <td>0.61286     </td> <td>0.15611  </td> <td>0.104549        </td> <td>0.107289 </td> <td>0.198543   </td> <td>109.256</td> <td>0.483544 </td>\n",
       "        </tr>\n",
       "    </tbody>\n",
       "</table>\n",
       "<p>... (449 rows omitted)</p>"
      ],
      "text/plain": [
       "track_id | track_title              | track_genre | acousticness | danceability | energy    | instrumentalness | liveness  | speechiness | tempo   | valence\n",
       "145      | Amoebiasis               | Jazz        | 0.235506     | 0.438672     | 0.487752  | 0.716122         | 0.0703593 | 0.0472978   | 120.79  | 0.650452\n",
       "155      | Maps of the Stars Homes  | Rock        | 0.981657     | 0.142249     | 0.912122  | 0.967294         | 0.36351   | 0.087527    | 91.912  | 0.0343253\n",
       "201      | Big City                 | Folk        | 0.991813     | 0.461855     | 0.543751  | 0.964922         | 0.137006  | 0.0256877   | 93.945  | 0.758632\n",
       "307      | Out on the farm          | Rock        | 0.77377      | 0.552026     | 0.251328  | 0.568976         | 0.110743  | 0.0506326   | 117.247 | 0.356984\n",
       "309      | Where are all the people | Rock        | 0.335481     | 0.390263     | 0.0210674 | 0.937508         | 0.0890457 | 0.0414906   | 60.382  | 0.0399321\n",
       "319      | Complete Shakespeare     | Rock        | 0.890498     | 0.316413     | 0.0596131 | 0.913303         | 0.108808  | 0.0387785   | 133.934 | 0.122417\n",
       "327      | Hands Beckoning          | Rock        | 0.928171     | 0.553091     | 0.303937  | 0.95423          | 0.110752  | 0.107401    | 110.039 | 0.616368\n",
       "328      | Central Park             | Rock        | 0.297541     | 0.624953     | 0.176884  | 0.815871         | 0.0928226 | 0.0551486   | 114.858 | 0.503635\n",
       "350      | Gotta Go                 | Rock        | 0.989664     | 0.463938     | 0.363612  | 0.919011         | 0.11874   | 0.0376218   | 99.384  | 0.591003\n",
       "364      | Sunspot activity         | Rock        | 0.98638      | 0.61286      | 0.15611   | 0.104549         | 0.107289  | 0.198543    | 109.256 | 0.483544\n",
       "... (449 rows omitted)"
      ]
     },
     "execution_count": 8,
     "metadata": {},
     "output_type": "execute_result"
    }
   ],
   "source": [
    "# We changed the order of the blocks since this fits our workflow better\n",
    "# Use this cell to join two datasets\n",
    "t_f = tracks.join('track_id', features).select(['track_id', 'track_title', 'track_genre'] + list(features.labels)) # Join tracks and features using 'track_id'\n",
    "t_f"
   ]
  },
  {
   "cell_type": "markdown",
   "metadata": {},
   "source": [
    "*We use ```track_id```, the primary key in ```tracks``` and ```features``` table to construct this table. Then we chose to drop redundant labels such as ```album_date_released``` and ```album_type```. The resulting table will be crucial to our subsequent analysis as all of our operations rely on this table.*"
   ]
  },
  {
   "cell_type": "markdown",
   "metadata": {},
   "source": [
    "## Hypothesis Testing\n",
    "\n",
    "**Do not copy code from demo notebooks or homeworks! You may split portions of your code into distinct cells. Also, be sure to\n",
    "set a random seed so that your results are reproducible.**"
   ]
  },
  {
   "cell_type": "markdown",
   "metadata": {},
   "source": [
    "We decide to perform an A/B testing with the null hypothesis being that the difference is due to a chance model, and with the alternative hypothesis being that Rock music tends to have a faster tempo on average than Electronic music and hence brings the difference. We will use a common $5\\%$ as our choice for p_value and we use the difference between two averages as our test statistic. We choose the difference between two averages because this choice aligns with our hypothesis testing question. Since this project is not regarding an academic topic, we settled on the commonly seen 0.05 as our p_value."
   ]
  },
  {
   "cell_type": "code",
   "execution_count": 9,
   "metadata": {},
   "outputs": [],
   "source": [
    "# set the random seed so that results are reproducible\n",
    "np.random.seed(109)\n",
    "\n",
    "# Calculate the mean difference of a feature between music grouped by input labels\n",
    "def mean_difference(table, group_label):\n",
    "    mean_table = table.group(group_label, np.mean)\n",
    "    return mean_table.column(1).item(1) - mean_table.column(1).item(0)\n",
    "\n",
    "# Function used to perform hypothesis testing simulation\n",
    "def simulate(table, genre_1, genre_2, feature, group_label):\n",
    "    selected_genres = table.where(group_label, are.contained_in(genre_1 + ' ' + genre_2))\n",
    "    shuffled_labels = selected_genres.sample(with_replacement=False).column(group_label)\n",
    "    shuffled_table = selected_genres.select(feature).with_column('Shuffled Label', shuffled_labels)\n",
    "    return mean_difference(shuffled_table, 'Shuffled Label')\n",
    "\n",
    "# Return the observed value for the permutation test\n",
    "def observed(genre_1, genre_2, feature, group_label, table=t_f):\n",
    "    return mean_difference(table.where(group_label, are.contained_in(genre_1 + ' ' + genre_2)).select(feature, group_label), group_label)\n",
    "\n",
    "# Function used to perform the entire permutation test and output test results / graphs\n",
    "def permutation_test(repetitions, table, genre_1, genre_2, feature, group_label, direction):\n",
    "    \"\"\"\n",
    "    repetitions: number of simulations you wish to conduct\n",
    "    table: table for data\n",
    "    genre_1: first genre you want to use\n",
    "    genre_2: second genre you want to use\n",
    "    feature: feature of the music\n",
    "    group_label: label of the music used to group values\n",
    "    direction: direction of the alternative model\n",
    "    \"\"\"\n",
    "    differences = make_array()\n",
    "    for i in range(repetitions):\n",
    "        differences = np.append(differences, simulate(table, genre_1, genre_2, feature, group_label))\n",
    "    observed_value = observed(genre_1, genre_2, feature, group_label, table)\n",
    "    Table().with_column('Differences of ave rage tempos between Rock and Electronic', differences).hist()\n",
    "    plots.scatter(observed_value, 0, color='red', s=100)\n",
    "    print('Observed value is', observed_value)\n",
    "    if direction == 'left':\n",
    "        print('empirical p_value is', np.count_nonzero(differences <= observed_value) / repetitions)\n",
    "    if direction == 'right':\n",
    "        print('empirical p_value is', np.count_nonzero(differences >= observed_value) / repetitions)"
   ]
  },
  {
   "cell_type": "code",
   "execution_count": 10,
   "metadata": {},
   "outputs": [
    {
     "name": "stdout",
     "output_type": "stream",
     "text": [
      "Observed value is 4.3894164904862265\n",
      "empirical p_value is 0.121\n"
     ]
    },
    {
     "data": {
      "image/png": "[encoded data removed]",
      "text/plain": [
       "<Figure size 432x288 with 1 Axes>"
      ]
     },
     "metadata": {},
     "output_type": "display_data"
    }
   ],
   "source": [
    "# Perform permutation test using our created function\n",
    "permutation_test(1000, t_f, 'Rock', 'Electronic', 'tempo', 'track_genre', 'right')"
   ]
  },
  {
   "cell_type": "markdown",
   "metadata": {},
   "source": [
    "### Hypothesis Testing Result\n",
    "\n",
    "After table manipulations and 1000 simulations for the permutation test, we obtained that observed value is roughly 4.39 and empirical p_value is 0.121. Referencing the selected $5\\%$ p_value, our empirical p_value is not significant enough for us to reject the null hypothesis. In other words, the small discrepancies appeared in the dataset are due to a chance model."
   ]
  },
  {
   "cell_type": "markdown",
   "metadata": {},
   "source": [
    "## Prediction\n",
    "\n",
    "**Be sure to set a random seed so that your results are reproducible.**"
   ]
  },
  {
   "cell_type": "markdown",
   "metadata": {},
   "source": [
    "After looking into and experimenting with the dataset, we quickly came to an argument: Using features of music to perform linear regression in hope of predicting another qualitative trait of music is not valuable. Therefore, we turned our heads to KNN classification, since it is way more meaningful to classify music based on its qualitative characteristics. For instance, if people are having a hard time to recognize the genre of the music they are listening to, and they do not possess professional music knowledge, they can pick up our classifier and it will help them tremendously. About 85% of our total dataset is used to construct the training set, and the left 15% is reserved for testing. Using the KNN classification with ```k=3```, we are able to classify between Rock and Electronic through these features: ```acousticness```, ```danceability```, ```energy``` and ```instrumentalness```. We select these features based on the reasoning in the aggreated table section above."
   ]
  },
  {
   "cell_type": "code",
   "execution_count": 11,
   "metadata": {},
   "outputs": [],
   "source": [
    "# set the random seed so that results are reproducible\n",
    "np.random.seed(109)\n",
    "\n",
    "def su(column):\n",
    "    return (column - np.mean(column)) / np.std(column)\n",
    "\n",
    "# Function that transform data of two genres into standard units\n",
    "def into_su(table, genre_1, genre_2):\n",
    "    table = table.where('track_genre', are.contained_in(genre_1 + \" \" + genre_2))\n",
    "    return Table().with_columns(\n",
    "        'track_genre', table.column('track_genre'),\n",
    "        'track_title', table.column('track_title'),\n",
    "        'acousticness', su(table.column('acousticness')),\n",
    "        'danceability', su(table.column('danceability')),\n",
    "        'energy', su(table.column('energy')),\n",
    "        'instrumentalness', su(table.column('instrumentalness')),\n",
    "        'liveness', su(table.column('liveness')),\n",
    "        'speechiness', su(table.column('speechiness')),\n",
    "        'tempo', su(table.column('tempo')),\n",
    "        'valence', su(table.column('valence'))\n",
    "    )\n",
    "\n",
    "# Distance between two rows of features\n",
    "def distance(test, train):\n",
    "    return np.sqrt(np.sum((np.array(list(test)) - np.array(list(train)))**2))\n",
    "\n",
    "# Return the most common class among k nearest neigbors to test_row\n",
    "def classify(test_row, train_rows, train_labels, k):\n",
    "    distances = np.array([distance(test_row, train_row) for train_row in train_rows.rows])\n",
    "    genre_and_distances = Table().with_columns('Genre', train_labels, 'Distance', distances).sort('Distance')\n",
    "    return genre_and_distances.take(np.arange(k)).group('Genre').sort('count', descending = True).column('Genre').item(0)\n",
    "\n",
    "# Takes one test row and return the most commonn class among k nearest neighbors to it\n",
    "def classify_feature_row(row):\n",
    "    return classify(row, train_features, train_tracks.column('track_genre'), 3)"
   ]
  },
  {
   "cell_type": "code",
   "execution_count": 12,
   "metadata": {},
   "outputs": [
    {
     "name": "stdout",
     "output_type": "stream",
     "text": [
      "Training set size:  275 ; Test set size:  50\n"
     ]
    }
   ],
   "source": [
    "# Transform data into standard units\n",
    "rock_electronic_su = into_su(t_f, 'Rock', 'Electronic')\n",
    "\n",
    "# We choose 85% of our dataset to construct the training set and the left 15% to construct the test set\n",
    "training_proportion = 275/325\n",
    "\n",
    "shuffeled_table = rock_electronic_su.sample(with_replacement=False)\n",
    "num_tracks = shuffeled_table.num_rows\n",
    "num_train = int(num_tracks * training_proportion)\n",
    "num_test = num_tracks - num_train\n",
    "\n",
    "train_tracks = shuffeled_table.take(np.arange(num_train))\n",
    "test_tracks = shuffeled_table.take(np.arange(num_train, num_tracks))\n",
    "\n",
    "print(\"Training set size: \",   train_tracks.num_rows, \";\",\n",
    "      \"Test set size: \",       test_tracks.num_rows)\n",
    "\n",
    "# Choose features\n",
    "prediction_features = make_array('acousticness', 'danceability', 'energy', 'instrumentalness')\n",
    "\n",
    "train_features = train_tracks.select(prediction_features)\n",
    "test_features = test_tracks.select(prediction_features)"
   ]
  },
  {
   "cell_type": "code",
   "execution_count": 13,
   "metadata": {},
   "outputs": [
    {
     "data": {
      "text/plain": [
       "0.9"
      ]
     },
     "execution_count": 13,
     "metadata": {},
     "output_type": "execute_result"
    }
   ],
   "source": [
    "# Perform prediction using k-value of 3\n",
    "test_guesses = test_features.apply(classify_feature_row)\n",
    "proportion_correct = np.count_nonzero(test_guesses == test_tracks.column('track_genre')) / test_tracks.num_rows\n",
    "proportion_correct"
   ]
  },
  {
   "cell_type": "code",
   "execution_count": 14,
   "metadata": {},
   "outputs": [
    {
     "data": {
      "text/html": [
       "<table border=\"1\" class=\"dataframe\">\n",
       "    <thead>\n",
       "        <tr>\n",
       "            <th>track_genre</th> <th>acousticness</th> <th>danceability</th> <th>energy</th> <th>instrumentalness</th> <th>Was correct</th>\n",
       "        </tr>\n",
       "    </thead>\n",
       "    <tbody>\n",
       "        <tr>\n",
       "            <td>Electronic </td> <td>0.981998    </td> <td>-0.675465   </td> <td>-1.29283 </td> <td>0.62478         </td> <td>False      </td>\n",
       "        </tr>\n",
       "        <tr>\n",
       "            <td>Rock       </td> <td>1.10619     </td> <td>1.62896     </td> <td>-1.88411 </td> <td>0.48764         </td> <td>False      </td>\n",
       "        </tr>\n",
       "        <tr>\n",
       "            <td>Electronic </td> <td>-0.525448   </td> <td>-0.0270166  </td> <td>-0.997525</td> <td>0.243931        </td> <td>False      </td>\n",
       "        </tr>\n",
       "        <tr>\n",
       "            <td>Electronic </td> <td>1.24785     </td> <td>-0.301917   </td> <td>-0.562653</td> <td>-0.794205       </td> <td>False      </td>\n",
       "        </tr>\n",
       "        <tr>\n",
       "            <td>Electronic </td> <td>0.560187    </td> <td>0.947889    </td> <td>-1.29486 </td> <td>-0.761794       </td> <td>False      </td>\n",
       "        </tr>\n",
       "    </tbody>\n",
       "</table>\n",
       "<p>... (45 rows omitted)</p>"
      ],
      "text/plain": [
       "<IPython.core.display.HTML object>"
      ]
     },
     "metadata": {},
     "output_type": "display_data"
    }
   ],
   "source": [
    "# Show the table of correctness and explore patterns in mistakes\n",
    "test_track_correctness = test_tracks.select('track_title', 'track_genre').with_column('Was correct', test_guesses == test_tracks.column('track_genre'))\n",
    "test_tracks.join('track_title', test_track_correctness).select(['track_genre'] + list(prediction_features) + ['Was correct']).sort('Was correct', descending=False).show(5)"
   ]
  },
  {
   "cell_type": "markdown",
   "metadata": {},
   "source": [
    "From the value of ```proportion_correct```, we get to know that our classifier has an accuracy of $90\\%$. By pulling out the table of mistakes, we can't really directly tell any patterns in them. However, we did notice that music could be classified into multiple genres and yet the data we operated upon only has music classified in a single genre. We know that KNN classifier tends to make mistakes along the decision boundary, and music that are labeled with multiple genres tends to live on such boundary. In this case, the mistakes that our classifier made could've been classified with genre Rock / Electronic in the original dataset, but the sample data cannot reflect this."
   ]
  },
  {
   "cell_type": "markdown",
   "metadata": {},
   "source": [
    "## Conclusion\n",
    "\n",
    "With p-value of 5%, we failed to reject our null hypothesis, meaning that the small discrepancies appeared in the dataset are due to a chance model. The accuracy of our KNN classfier with ```k=3``` is $90\\%$, which is good enough for a small dataset with 325 Rock and Electronic tracks in total. \n",
    "\n",
    "We did notice some limitations in our explorations with the sampled dataset. In our observations of the dataset, we noticed an abnormality that the sum of ```#tracks``` in ```genres``` table does not add up to the number of total tracks mentioned in the project introduction. We think this might be caused by duplicates in the original dataset, since a piece of music can be simultaneously classified into different genres. However, we only see one genre being assigned to each track in ```tracks``` table, and this will introduce bias towards our understanding of the sample's population distribution. We would love to perform **Bootstrapping** on ```tracks``` table to get a better sense at how the original distribution looks like. Nevertheless, we already lost the information of whether the track is being labeled in multiple genres. Therefore, our produced estimation would still be flawed since it comes from a potentially biased data sample.\n"
   ]
  },
  {
   "cell_type": "markdown",
   "metadata": {},
   "source": [
    "## Presentation\n",
    "\n",
    "*In this section, you'll need to provide a link to your video presentation. If you've uploaded your presentation to YouTube,\n",
    "you can include the URL in the code below. We've provided an example to show you how to do this. Otherwise, provide the link\n",
    "in a markdown cell.*\n",
    "\n",
    "**Link:** *Replace this text with a link to your video presentation*"
   ]
  },
  {
   "cell_type": "code",
   "execution_count": 15,
   "metadata": {},
   "outputs": [
    {
     "data": {
      "image/jpeg": "[encoded data removed]",
      "text/html": [
       "\n",
       "        <iframe\n",
       "            width=\"400\"\n",
       "            height=\"300\"\n",
       "            src=\"https://www.youtube.com/embed/hKUHgwcUilk\"\n",
       "            frameborder=\"0\"\n",
       "            allowfullscreen\n",
       "        ></iframe>\n",
       "        "
      ],
      "text/plain": [
       "<IPython.lib.display.YouTubeVideo at 0x7f6c72451e80>"
      ]
     },
     "execution_count": 15,
     "metadata": {},
     "output_type": "execute_result"
    }
   ],
   "source": [
    "# Full Link: https://www.youtube.com/watch?v=BKgdDLrSC5s&feature=emb_logo\n",
    "# Plug in string between \"v=\" and \"\"&feature\":\n",
    "YouTubeVideo('hKUHgwcUilk')"
   ]
  },
  {
   "cell_type": "markdown",
   "metadata": {},
   "source": [
    "# Submission\n",
    "\n",
    "*Just as with the other assignments in this course, please submit your research notebook to Okpy. We suggest that you\n",
    "submit often so that your progress is saved.*"
   ]
  },
  {
   "cell_type": "code",
   "execution_count": null,
   "metadata": {},
   "outputs": [
    {
     "data": {
      "application/javascript": [
       "IPython.notebook.save_checkpoint();"
      ],
      "text/plain": [
       "<IPython.core.display.Javascript object>"
      ]
     },
     "metadata": {},
     "output_type": "display_data"
    }
   ],
   "source": [
    "# Run this line to submit your work\n",
    "_ = ok.submit()"
   ]
  }
 ],
 "metadata": {
  "kernelspec": {
   "display_name": "Python 3",
   "language": "python",
   "name": "python3"
  },
  "language_info": {
   "codemirror_mode": {
    "name": "ipython",
    "version": 3
   },
   "file_extension": ".py",
   "mimetype": "text/x-python",
   "name": "python",
   "nbconvert_exporter": "python",
   "pygments_lexer": "ipython3",
   "version": "3.8.5"
  }
 },
 "nbformat": 4,
 "nbformat_minor": 4
}
